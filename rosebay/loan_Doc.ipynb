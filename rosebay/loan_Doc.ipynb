{
 "cells": [
  {
   "cell_type": "markdown",
   "metadata": {},
   "source": [
    "\n",
    "\n",
    "Requirement:Predict whether a customer will pay back the loan or in percentage by going through the mock data sets.\n",
    "    In loan-data.csv file there are 23000 data sets and each set have their credit amount, gender, education, marital status, age, history of past payment, amounts of bill statement, amount of previous payments. Since, there is specific features and there is no missing data in it, we are using supervised learning. we train and test our data sets in random forest classifier model. Since there is lot of variation in our datasets, We preprocess our datasets by standarizing it."
   ]
  },
  {
   "cell_type": "markdown",
   "metadata": {},
   "source": [
    "# Pandas features:\n",
    "    DataFrame object for data manipulation with integrated indexing.\n",
    "    Tools for reading and writing data between in-memory data structures and different file formats.\n",
    "    Data alignment and integrated handling of missing data.\n",
    "    Reshaping and pivoting of data sets.\n",
    "    Label-based slicing, fancy indexing, and subsetting of large data sets.\n",
    "    Data structure column insertion and deletion.\n",
    "    Group by engine allowing split-apply-combine operations on data sets.\n",
    "    Data set merging and joining.\n",
    "    Provides data filtration."
   ]
  },
  {
   "cell_type": "markdown",
   "metadata": {},
   "source": [
    "# Numpy\n",
    "Numpy is the fundamental package for scientific computing with Python. It contains:\n",
    "    a powerful N-dimensional array object\n",
    "    sophisticated (broadcasting) functions\n",
    "    tools for integrating C/C++ and Fortran code\n",
    "    useful linear algebra, Fourier transform, and random number capabilities"
   ]
  },
  {
   "cell_type": "markdown",
   "metadata": {},
   "source": [
    "Now we want to see how many people, who are paying their debt in certain interval\n",
    "Since we have no '1' data on feature pay_5 and pay_6 we are inserting 0 value manually in count list to plot the bar chart"
   ]
  },
  {
   "cell_type": "code",
   "execution_count": 1,
   "metadata": {
    "scrolled": false
   },
   "outputs": [
    {
     "name": "stdout",
     "output_type": "stream",
     "text": [
      "[-2 -1  0  1  2  3  4  5  6  7  8]\n",
      "[ 1910  4437 11299  2872  2119   248    64    17     9     7    17]\n",
      "11\n",
      "[-2 -1  0  1  2  3  4  5  6  7  8]\n",
      "[ 2739  4684 12088    20  3092   256    72    21     9    17     1]\n",
      "11\n",
      "[-2 -1  0  1  2  3  4  5  6  7  8]\n",
      "[ 2968  4588 12117     4  3020   174    63    16    20    27     2]\n",
      "11\n",
      "[-2 -1  0  1  2  3  4  5  6  7  8]\n",
      "[ 3159  4355 12786     2  2409   154    54    27     5    46     2]\n",
      "11\n",
      "[-2 -1  0  2  3  4  5  6  7  8]\n",
      "[ 3304  4313 13003     0  2104   146    68    10     3    47     1]\n",
      "11\n",
      "[-2 -1  0  2  3  4  5  6  7  8]\n",
      "[ 3580  4542 12373     0  2252   153    35     9    16    37     2]\n",
      "11\n",
      "[array([-2, -1,  0,  1,  2,  3,  4,  5,  6,  7,  8], dtype=int64), array([-2, -1,  0,  1,  2,  3,  4,  5,  6,  7,  8], dtype=int64), array([-2, -1,  0,  1,  2,  3,  4,  5,  6,  7,  8], dtype=int64), array([-2, -1,  0,  1,  2,  3,  4,  5,  6,  7,  8], dtype=int64), array([-2, -1,  0,  2,  3,  4,  5,  6,  7,  8], dtype=int64), array([-2, -1,  0,  2,  3,  4,  5,  6,  7,  8], dtype=int64)] [array([ 1910,  4437, 11299,  2872,  2119,   248,    64,    17,     9,\n",
      "           7,    17], dtype=int64), array([ 1910,  4437, 11299,  2872,  2119,   248,    64,    17,     9,\n",
      "           7,    17], dtype=int64), array([ 2739,  4684, 12088,    20,  3092,   256,    72,    21,     9,\n",
      "          17,     1], dtype=int64), array([ 2739,  4684, 12088,    20,  3092,   256,    72,    21,     9,\n",
      "          17,     1], dtype=int64), array([ 2968,  4588, 12117,     4,  3020,   174,    63,    16,    20,\n",
      "          27,     2], dtype=int64), array([ 2968,  4588, 12117,     4,  3020,   174,    63,    16,    20,\n",
      "          27,     2], dtype=int64), array([ 3159,  4355, 12786,     2,  2409,   154,    54,    27,     5,\n",
      "          46,     2], dtype=int64), array([ 3159,  4355, 12786,     2,  2409,   154,    54,    27,     5,\n",
      "          46,     2], dtype=int64), array([ 3304,  4313, 13003,  2104,   146,    68,    10,     3,    47,\n",
      "           1], dtype=int64), array([ 3304,  4313, 13003,     0,  2104,   146,    68,    10,     3,\n",
      "          47,     1], dtype=int64), array([ 3580,  4542, 12373,  2252,   153,    35,     9,    16,    37,\n",
      "           2], dtype=int64), array([ 3580,  4542, 12373,     0,  2252,   153,    35,     9,    16,\n",
      "          37,     2], dtype=int64)]\n"
     ]
    },
    {
     "data": {
      "text/plain": [
       "<Figure size 2000x500 with 1 Axes>"
      ]
     },
     "metadata": {},
     "output_type": "display_data"
    },
    {
     "data": {
      "text/plain": [
       "<Figure size 500x500 with 1 Axes>"
      ]
     },
     "metadata": {},
     "output_type": "display_data"
    }
   ],
   "source": [
    "from matplotlib import pyplot as plt\n",
    "import pandas as pd\n",
    "import numpy as np\n",
    "\n",
    "u=list()\n",
    "count=list()\n",
    "for i in range(6,12,1):\n",
    "    data=pd.read_csv('Loan-data.csv')\n",
    "    m=data.values[:,i]\n",
    "    uniquee, countss = np.unique(m, return_counts=True)\n",
    "    u.append(uniquee)\n",
    "    count.append(countss)\n",
    "    print(uniquee)\n",
    "    if uniquee.size!=11:\n",
    "        new=np.insert(countss,3,0) \n",
    "    else:\n",
    "        new=countss\n",
    "    print(new)\n",
    "    print(len(new))\n",
    "    count.append(new)\n",
    "\n",
    "\n",
    "print(u,count)  \n",
    "\n",
    "\n",
    "\n",
    "\n",
    "df = pd.DataFrame({'sept': count[0],'Aug':count[1],'July':count[2],'June':count[3],'May':count[4],'April':count[5] }, index=u[0])\n",
    "fig1=df.plot.bar(figsize=(20,5))\n",
    "figg = fig1.get_figure()\n",
    "figg.savefig(\"output.png\")\n",
    "\n",
    "fig=plt.figure(figsize=(5,5))\n",
    "\n",
    "\n",
    "a=(data.values[:,-1])\n",
    "npay=0\n",
    "pay=0\n",
    "for i in a:\n",
    "    \n",
    "    type(i)\n",
    "    if i==1:\n",
    "        pay=pay+1\n",
    "    else:\n",
    "        npay=npay+1\n",
    "values=[pay,npay]\n",
    "\n",
    "\n",
    "\n",
    "labels = ['pay','Not pay']\n",
    "\n",
    "\n",
    "plt.pie(values,labels=labels, autopct='%1.1f%%',)\n",
    "plt.show()\n",
    "fig.savefig('foo.png')\n",
    "\n",
    "\n",
    "\n",
    "\n"
   ]
  },
  {
   "cell_type": "raw",
   "metadata": {},
   "source": [
    "# From the graph, we can see that most of the customer are paying at interval 0 (which means they are paying their debt on time). There is no larger varience in interval except at interval '1'. Many customer are paying their debt in advance than paying it late. But also only 22.5% customer are likly to pay in next month ('default payment next month')"
   ]
  },
  {
   "cell_type": "code",
   "execution_count": 11,
   "metadata": {},
   "outputs": [
    {
     "data": {
      "text/plain": [
       "<matplotlib.axes._subplots.AxesSubplot at 0x1f6b09f3710>"
      ]
     },
     "execution_count": 11,
     "metadata": {},
     "output_type": "execute_result"
    },
    {
     "data": {
      "image/png": "[encoded data removed]",
      "text/plain": [
       "<Figure size 432x288 with 1 Axes>"
      ]
     },
     "metadata": {
      "needs_background": "light"
     },
     "output_type": "display_data"
    }
   ],
   "source": [
    "import seaborn as sns\n",
    "\n",
    "sns.stripplot(data=data,x='EDUCATION',y='LIMIT_BAL')\n"
   ]
  },
  {
   "cell_type": "raw",
   "metadata": {},
   "source": [
    "We can see that customer who have graduated from high school,university and school have taken more credit than other"
   ]
  },
  {
   "cell_type": "markdown",
   "metadata": {},
   "source": [
    "Here we consider coloumn_target as our dependent variables and\n",
    "coloumns_trains as our independent variables.\n",
    "We have set 'AGE','SEX','EDUCATION','MARRIAGE','LIMIT_BAL','BILL_AMT1','BILL_AMT2','BILL_AMT3','BILL_AMT4','BILL_AMT5','BILL_AMT6','PAY_AMT1','PAY_AMT2','PAY_AMT3','PAY_AMT4','PAY_AMT5','PAY_AMT6','PAY_0','PAY_2','PAY_3','PAY_4','PAY_5','PAY_6' in our dependent variable 'x' and 'default payment next month' in independent variable 'y'\n",
    "\n"
   ]
  },
  {
   "cell_type": "code",
   "execution_count": 3,
   "metadata": {},
   "outputs": [],
   "source": [
    "import pandas as pd\n",
    "data=pd.read_csv('loan-data.csv')\n",
    "columns_target=['default payment next month']\n",
    "columns_train=['AGE','SEX','EDUCATION','MARRIAGE','LIMIT_BAL','BILL_AMT1','BILL_AMT2','BILL_AMT3','BILL_AMT4','BILL_AMT5','BILL_AMT6','PAY_AMT1','PAY_AMT2','PAY_AMT3','PAY_AMT4','PAY_AMT5','PAY_AMT6','PAY_0','PAY_2','PAY_3','PAY_4','PAY_5','PAY_6']\n",
    "\n",
    "x=data[columns_train]\n",
    "y=data[columns_target]\n"
   ]
  },
  {
   "cell_type": "markdown",
   "metadata": {
    "slideshow": {
     "slide_type": "notes"
    }
   },
   "source": [
    "# train_test_split\n",
    "Split arrays or matrices into random train and test subsets.\n",
    "Here we split our 80% datasets (x: independent y:dependent) as our training data and 20% as our testing data.\n",
    "Random_state as the name suggests, is used for initializing the internal random number generator, which will decide the splitting of data into train and test indices in our case.\n",
    "splitting random data into train and test datasets is important because it make our prediction more accurate by providing lots of variations."
   ]
  },
  {
   "cell_type": "code",
   "execution_count": 4,
   "metadata": {
    "scrolled": false
   },
   "outputs": [
    {
     "name": "stdout",
     "output_type": "stream",
     "text": [
      "      AGE  SEX  EDUCATION  MARRIAGE  LIMIT_BAL  BILL_AMT1  BILL_AMT2  \\\n",
      "2980   27    1          1         2      50000      50459      36307   \n",
      "7988   27    2          2         2     200000        264        264   \n",
      "7419   29    1          1         2      80000       2946       4599   \n",
      "1023   35    2          1         1     200000       9918      10971   \n",
      "5165   58    1          3         1      50000       4025       5318   \n",
      "\n",
      "      BILL_AMT3  BILL_AMT4  BILL_AMT5  ...    PAY_AMT3  PAY_AMT4  PAY_AMT5  \\\n",
      "2980      27713       3807       2746  ...         500      2800       900   \n",
      "7988        264        264        264  ...         264       264       264   \n",
      "7419       1863       3309       1446  ...        1446         0         0   \n",
      "1023      11817      17865      18239  ...        7865       592       807   \n",
      "5165       4151       4186       3545  ...        4186      3545      2860   \n",
      "\n",
      "      PAY_AMT6  PAY_0  PAY_2  PAY_3  PAY_4  PAY_5  PAY_6  \n",
      "2980       100      0      0      0      0     -1     -1  \n",
      "7988         0     -2     -2     -2     -2     -2     -2  \n",
      "7419      2493     -1     -1      2      0      0      0  \n",
      "1023       679     -1      0      0      0      0      0  \n",
      "5165      2702     -2     -2     -2     -2     -2     -2  \n",
      "\n",
      "[5 rows x 23 columns]\n"
     ]
    }
   ],
   "source": [
    "from sklearn.model_selection import train_test_split\n",
    "\n",
    "x_train, x_test, y_train, y_test = train_test_split(x,y,test_size=0.2,random_state=0)\n",
    "print(x_train.head())"
   ]
  },
  {
   "cell_type": "markdown",
   "metadata": {},
   "source": [
    "preprocessing.scale standardize our datasets which have lot of variation. Standardization refers to shifting the distribution of each attribute to have a mean of zero and a standard deviation of one (unit variance). Standardization formula=(x-m)/s \n",
    "where\n",
    "x = the value that is being standardized\n",
    "m = the mean of the distribution\n",
    "s = standard deviation of the distribution.\n",
    "As we can see, minimum value and maximum value in our data set is more than 900000 which make it difficult to find the resultant between those value. This make difficult to make calculation, generating more complexity and error so standardization or normaliztion is needed. After using standardization my accuracy gone up by 1% so i have choosen it over normalization."
   ]
  },
  {
   "cell_type": "code",
   "execution_count": 5,
   "metadata": {},
   "outputs": [
    {
     "name": "stdout",
     "output_type": "stream",
     "text": [
      "[[-0.8887393  -1.27492277 -1.08586462 ...  0.17276907 -0.66989718\n",
      "  -0.63368011]\n",
      " [-0.8887393   0.78436123  0.20317488 ... -1.54734899 -1.54809014\n",
      "  -1.49699596]\n",
      " [-0.67173514 -1.27492277 -1.08586462 ...  0.17276907  0.20829578\n",
      "   0.22963573]\n",
      " ...\n",
      " [ 0.84729397  0.78436123  1.49221438 ...  0.17276907  0.20829578\n",
      "   1.95626741]\n",
      " [-0.67173514  0.78436123  1.49221438 ...  0.17276907  0.20829578\n",
      "   0.22963573]\n",
      " [-1.10574346  0.78436123 -1.08586462 ...  0.17276907  0.20829578\n",
      "   0.22963573]]\n"
     ]
    },
    {
     "name": "stderr",
     "output_type": "stream",
     "text": [
      "C:\\Users\\hp\\Anaconda3\\lib\\site-packages\\ipykernel_launcher.py:3: DataConversionWarning: Data with input dtype int64 were all converted to float64 by the scale function.\n",
      "  This is separate from the ipykernel package so we can avoid doing imports until\n",
      "C:\\Users\\hp\\Anaconda3\\lib\\site-packages\\ipykernel_launcher.py:4: DataConversionWarning: Data with input dtype int64 were all converted to float64 by the scale function.\n",
      "  after removing the cwd from sys.path.\n"
     ]
    }
   ],
   "source": [
    "from sklearn import preprocessing\n",
    "\n",
    "x_train =preprocessing.scale(x_train)\n",
    "x_test = preprocessing.scale(x_test)\n",
    "print(x_train)"
   ]
  },
  {
   "cell_type": "markdown",
   "metadata": {},
   "source": [
    "# RandomForestClassifier\n",
    "n_estimators is the number of decision trees to be used in the forest.\n",
    "y_train.values.ravel()= A 1-D array, containing the elements of the input, is returned.\n",
    "random forest is made of many decision trees. Decision tree as a series of yes/no questions asked about our data eventually leading to a predicted output class. To find the pattern in our data we have used regressor.fit(). which train our model with our specified training data and create decision trees. Then regressor.predict() function test out testing dataset and predict the outcome."
   ]
  },
  {
   "cell_type": "code",
   "execution_count": 6,
   "metadata": {},
   "outputs": [
    {
     "name": "stdout",
     "output_type": "stream",
     "text": [
      "[0 0 0 ... 0 0 0]\n"
     ]
    }
   ],
   "source": [
    "from sklearn.ensemble import RandomForestClassifier\n",
    "\n",
    "\n",
    "regressor = RandomForestClassifier(n_estimators=80, random_state=0)\n",
    "regressor.fit(x_train, y_train.values.ravel())\n",
    "y_pred = regressor.predict(x_test)\n",
    "print(y_train.values.ravel())"
   ]
  },
  {
   "cell_type": "markdown",
   "metadata": {},
   "source": [
    "A confusion matrix is a table that is often used to describe the performance of a classification model."
   ]
  },
  {
   "cell_type": "code",
   "execution_count": 7,
   "metadata": {
    "scrolled": true
   },
   "outputs": [
    {
     "data": {
      "image/png": "[encoded data removed]",
      "text/plain": [
       "<Figure size 432x288 with 1 Axes>"
      ]
     },
     "metadata": {},
     "output_type": "display_data"
    },
    {
     "name": "stdout",
     "output_type": "stream",
     "text": [
      "4600 495 4105\n",
      "===============================\n",
      "0.8132608695652174\n",
      "[[3418  172]\n",
      " [ 687  323]]\n",
      "              precision    recall  f1-score   support\n",
      "\n",
      "           0       0.83      0.95      0.89      3590\n",
      "           1       0.65      0.32      0.43      1010\n",
      "\n",
      "   micro avg       0.81      0.81      0.81      4600\n",
      "   macro avg       0.74      0.64      0.66      4600\n",
      "weighted avg       0.79      0.81      0.79      4600\n",
      "\n"
     ]
    }
   ],
   "source": [
    "from sklearn.metrics import classification_report, confusion_matrix, accuracy_score\n",
    "\n",
    "a=0\n",
    "b=0\n",
    "for x in y_pred:\n",
    "    \n",
    "    if x==1:\n",
    "        a=a+1\n",
    "    else:\n",
    "        b=b+1\n",
    "from matplotlib import pyplot as plt\n",
    "values=[a,b]\n",
    "labels=['paid','Not paid']\n",
    "plt.pie(values,labels=labels,autopct='%1.1f%%',)\n",
    "plt.show()\n",
    "print(len(y_pred),a,b)\n",
    "        \n",
    "\n",
    "\n",
    "print(\"===============================\")\n",
    "print(accuracy_score(y_test, y_pred))\n",
    "print(confusion_matrix(y_test,y_pred))  \n",
    "print(classification_report(y_test,y_pred)) "
   ]
  },
  {
   "cell_type": "markdown",
   "metadata": {},
   "source": [
    "Our Model has predicted 4105 observation as  \"0\" out of 4600. Our Model have predicted with an accuracy score of 81.32%."
   ]
  },
  {
   "cell_type": "markdown",
   "metadata": {},
   "source": [
    "## confusion Matrix\n",
    "Out of those 4600 cases, the classifier predicted \"0\" for (3411+687)=4105 customer in the sample have \"0\", and (172+323)=495 customer have \"1\". In reality, there is \"0\" (3418+172)=3590 times, and \"1\" (687+323)=1010 times.\n",
    "\n"
   ]
  },
  {
   "cell_type": "code",
   "execution_count": 10,
   "metadata": {},
   "outputs": [
    {
     "data": {
      "text/plain": [
       "ID                           -0.005529\n",
       "LIMIT_BAL                    -0.148354\n",
       "SEX                          -0.039890\n",
       "EDUCATION                     0.028775\n",
       "MARRIAGE                     -0.027558\n",
       "AGE                           0.009177\n",
       "PAY_0                         0.323901\n",
       "PAY_2                         0.260153\n",
       "PAY_3                         0.233746\n",
       "PAY_4                         0.213696\n",
       "PAY_5                         0.206623\n",
       "PAY_6                         0.186703\n",
       "BILL_AMT1                    -0.022502\n",
       "BILL_AMT2                    -0.016340\n",
       "BILL_AMT3                    -0.014645\n",
       "BILL_AMT4                    -0.008795\n",
       "BILL_AMT5                    -0.005572\n",
       "BILL_AMT6                    -0.003876\n",
       "PAY_AMT1                     -0.078094\n",
       "PAY_AMT2                     -0.060475\n",
       "PAY_AMT3                     -0.058595\n",
       "PAY_AMT4                     -0.058864\n",
       "PAY_AMT5                     -0.051769\n",
       "PAY_AMT6                     -0.056047\n",
       "default payment next month    1.000000\n",
       "Name: default payment next month, dtype: float64"
      ]
     },
     "execution_count": 10,
     "metadata": {},
     "output_type": "execute_result"
    }
   ],
   "source": [
    "data.corr()['default payment next month'][:]\n"
   ]
  },
  {
   "cell_type": "code",
   "execution_count": null,
   "metadata": {},
   "outputs": [],
   "source": []
  }
 ],
 "metadata": {
  "kernelspec": {
   "display_name": "Python 3",
   "language": "python",
   "name": "python3"
  },
  "language_info": {
   "codemirror_mode": {
    "name": "ipython",
    "version": 3
   },
   "file_extension": ".py",
   "mimetype": "text/x-python",
   "name": "python",
   "nbconvert_exporter": "python",
   "pygments_lexer": "ipython3",
   "version": "3.7.1"
  }
 },
 "nbformat": 4,
 "nbformat_minor": 2
}

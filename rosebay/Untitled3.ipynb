{
 "cells": [
  {
   "cell_type": "code",
   "execution_count": 6,
   "metadata": {},
   "outputs": [
    {
     "data": {
      "text/plain": [
       "AGE                          -0.025210\n",
       "MARRIAGE                     -0.009478\n",
       "PAY_AMT5                     -0.007037\n",
       "PAY_0                        -0.006637\n",
       "PAY_AMT1                     -0.006599\n",
       "default payment next month   -0.005529\n",
       "PAY_AMT6                     -0.003251\n",
       "LIMIT_BAL                    -0.002569\n",
       "PAY_AMT4                     -0.000516\n",
       "PAY_AMT2                      0.001894\n",
       "PAY_5                         0.005080\n",
       "PAY_3                         0.006728\n",
       "PAY_6                         0.006992\n",
       "BILL_AMT2                     0.013425\n",
       "BILL_AMT1                     0.014010\n",
       "BILL_AMT6                     0.014305\n",
       "BILL_AMT5                     0.014480\n",
       "PAY_2                         0.014696\n",
       "BILL_AMT3                     0.019667\n",
       "PAY_4                         0.025951\n",
       "PAY_AMT3                      0.027520\n",
       "BILL_AMT4                     0.034282\n",
       "EDUCATION                     0.036200\n",
       "SEX                           0.107299\n",
       "ID                            1.000000\n",
       "Name: ID, dtype: float64"
      ]
     },
     "execution_count": 6,
     "metadata": {},
     "output_type": "execute_result"
    }
   ],
   "source": [
    "import pandas as pd\n",
    "data=pd.read_csv(\"Loan-data.csv\")\n",
    "a=data.corr()['ID'][:]\n",
    "a.sort_values()"
   ]
  },
  {
   "cell_type": "code",
   "execution_count": 4,
   "metadata": {},
   "outputs": [
    {
     "data": {
      "text/plain": [
       "[]"
      ]
     },
     "execution_count": 4,
     "metadata": {},
     "output_type": "execute_result"
    }
   ],
   "source": []
  },
  {
   "cell_type": "code",
   "execution_count": null,
   "metadata": {},
   "outputs": [],
   "source": []
  }
 ],
 "metadata": {
  "kernelspec": {
   "display_name": "Python 3",
   "language": "python",
   "name": "python3"
  },
  "language_info": {
   "codemirror_mode": {
    "name": "ipython",
    "version": 3
   },
   "file_extension": ".py",
   "mimetype": "text/x-python",
   "name": "python",
   "nbconvert_exporter": "python",
   "pygments_lexer": "ipython3",
   "version": "3.7.1"
  }
 },
 "nbformat": 4,
 "nbformat_minor": 2
}

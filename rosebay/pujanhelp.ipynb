{
 "cells": [
  {
   "cell_type": "code",
   "execution_count": 12,
   "metadata": {},
   "outputs": [
    {
     "ename": "SyntaxError",
     "evalue": "EOL while scanning string literal (<ipython-input-12-68b5975bf952>, line 6)",
     "output_type": "error",
     "traceback": [
      "\u001b[1;36m  File \u001b[1;32m\"<ipython-input-12-68b5975bf952>\"\u001b[1;36m, line \u001b[1;32m6\u001b[0m\n\u001b[1;33m    columns_train=['AGE','SEX','EDUCATION','MARRIAGE','LIMIT_BAL','BILL_AMT1','BILL_AMT2','BILL_AMT3','BILL_AMT4','BILL_AMT5','\u001b[0m\n\u001b[1;37m                                                                                                                               ^\u001b[0m\n\u001b[1;31mSyntaxError\u001b[0m\u001b[1;31m:\u001b[0m EOL while scanning string literal\n"
     ]
    }
   ],
   "source": [
    "\n",
    "               "
   ]
  },
  {
   "cell_type": "code",
   "execution_count": 2,
   "metadata": {},
   "outputs": [
    {
     "data": {
      "image/png": "[encoded data removed]",
      "text/plain": [
       "<Figure size 432x288 with 1 Axes>"
      ]
     },
     "metadata": {},
     "output_type": "display_data"
    },
    {
     "name": "stdout",
     "output_type": "stream",
     "text": [
      "4600 584 4016\n",
      "===============================\n",
      "0.8065217391304348\n",
      "[[3358  232]\n",
      " [ 658  352]]\n",
      "              precision    recall  f1-score   support\n",
      "\n",
      "           0       0.84      0.94      0.88      3590\n",
      "           1       0.60      0.35      0.44      1010\n",
      "\n",
      "   micro avg       0.81      0.81      0.81      4600\n",
      "   macro avg       0.72      0.64      0.66      4600\n",
      "weighted avg       0.78      0.81      0.79      4600\n",
      "\n"
     ]
    }
   ],
   "source": [
    "import pandas as pd\n",
    "import numpy as np\n",
    "\n",
    "data=pd.read_csv('loan-data.csv')\n",
    "columns_target=['default payment next month']\n",
    "columns_train=['AGE','SEX','EDUCATION','MARRIAGE','LIMIT_BAL','BILL_AMT1','BILL_AMT2','BILL_AMT3','BILL_AMT4','BILL_AMT5','BILL_AMT6','PAY_AMT1','PAY_AMT2','PAY_AMT3','PAY_AMT4','PAY_AMT5','PAY_AMT6','PAY_0','PAY_2','PAY_3','PAY_4','PAY_5','PAY_6']\n",
    "\n",
    "x=data[columns_train]\n",
    "y=data[columns_target]\n",
    "from sklearn.model_selection import train_test_split\n",
    "\n",
    "x_train, x_test, y_train, y_test = train_test_split(x,y,test_size=0.2,random_state=0)\n",
    "\n",
    "from sklearn import preprocessing\n",
    "\n",
    "x_train =preprocessing.normalize(x_train)\n",
    "x_test = preprocessing.normalize(x_test)\n",
    "\n",
    "from sklearn.ensemble import RandomForestClassifier\n",
    "\n",
    "regressor = RandomForestClassifier(n_estimators=20, random_state=0)\n",
    "regressor.fit(x_train, y_train.values.ravel())\n",
    "y_pred = regressor.predict(x_test)\n",
    "\n",
    "from sklearn.metrics import classification_report, confusion_matrix, accuracy_score\n",
    "\n",
    "a=0\n",
    "b=0\n",
    "for x in y_pred:\n",
    "    \n",
    "    if x==1:\n",
    "        a=a+1\n",
    "    else:\n",
    "        b=b+1\n",
    "from matplotlib import pyplot as plt\n",
    "values=[a,b]\n",
    "labels=['paid','Not paid']\n",
    "plt.pie(values,labels=labels,autopct='%1.1f%%',)\n",
    "plt.show()\n",
    "print(len(y_pred),a,b)\n",
    "        \n",
    "\n",
    "\n",
    "print(\"===============================\")\n",
    "print(accuracy_score(y_test, y_pred))\n",
    "print(confusion_matrix(y_test,y_pred))  \n",
    "print(classification_report(y_test,y_pred)) "
   ]
  },
  {
   "cell_type": "code",
   "execution_count": 4,
   "metadata": {},
   "outputs": [
    {
     "name": "stdout",
     "output_type": "stream",
     "text": [
      "29    1261\n",
      "27    1167\n",
      "28    1111\n",
      "30    1071\n",
      "26    1012\n",
      "25     957\n",
      "24     929\n",
      "31     886\n",
      "33     877\n",
      "34     871\n",
      "32     868\n",
      "36     859\n",
      "35     828\n",
      "37     773\n",
      "23     762\n",
      "38     711\n",
      "39     710\n",
      "40     640\n",
      "41     614\n",
      "42     610\n",
      "43     512\n",
      "44     502\n",
      "22     469\n",
      "45     464\n",
      "46     421\n",
      "47     373\n",
      "48     346\n",
      "49     340\n",
      "50     301\n",
      "53     249\n",
      "51     247\n",
      "52     228\n",
      "54     176\n",
      "55     154\n",
      "56     126\n",
      "58      96\n",
      "57      95\n",
      "59      60\n",
      "21      55\n",
      "60      54\n",
      "61      41\n",
      "62      38\n",
      "63      25\n",
      "64      25\n",
      "66      22\n",
      "65      15\n",
      "69      14\n",
      "67      12\n",
      "70       9\n",
      "68       5\n",
      "72       2\n",
      "73       2\n",
      "71       2\n",
      "75       1\n",
      "79       1\n",
      "Name: AGE, dtype: int64\n"
     ]
    }
   ],
   "source": [
    "print(data['AGE'].value_counts())"
   ]
  },
  {
   "cell_type": "code",
   "execution_count": 5,
   "metadata": {},
   "outputs": [
    {
     "name": "stdout",
     "output_type": "stream",
     "text": [
      "       0  1  2  3  4  5  6\n",
      "0      0  0  1  0  0  0  0\n",
      "1      0  0  1  0  0  0  0\n",
      "2      0  0  1  0  0  0  0\n",
      "3      0  0  1  0  0  0  0\n",
      "4      0  0  1  0  0  0  0\n",
      "5      0  1  0  0  0  0  0\n",
      "6      0  1  0  0  0  0  0\n",
      "7      0  0  1  0  0  0  0\n",
      "8      0  0  0  1  0  0  0\n",
      "9      0  0  0  1  0  0  0\n",
      "10     0  0  0  1  0  0  0\n",
      "11     0  1  0  0  0  0  0\n",
      "12     0  0  1  0  0  0  0\n",
      "13     0  0  1  0  0  0  0\n",
      "14     0  1  0  0  0  0  0\n",
      "15     0  0  0  1  0  0  0\n",
      "16     0  1  0  0  0  0  0\n",
      "17     0  1  0  0  0  0  0\n",
      "18     0  1  0  0  0  0  0\n",
      "19     0  1  0  0  0  0  0\n",
      "20     0  0  0  1  0  0  0\n",
      "21     0  0  1  0  0  0  0\n",
      "22     0  0  1  0  0  0  0\n",
      "23     0  1  0  0  0  0  0\n",
      "24     0  1  0  0  0  0  0\n",
      "25     0  0  0  1  0  0  0\n",
      "26     0  1  0  0  0  0  0\n",
      "27     0  0  0  1  0  0  0\n",
      "28     0  0  0  1  0  0  0\n",
      "29     0  1  0  0  0  0  0\n",
      "...   .. .. .. .. .. .. ..\n",
      "22969  0  1  0  0  0  0  0\n",
      "22970  0  1  0  0  0  0  0\n",
      "22971  0  0  1  0  0  0  0\n",
      "22972  0  0  1  0  0  0  0\n",
      "22973  0  0  1  0  0  0  0\n",
      "22974  0  0  1  0  0  0  0\n",
      "22975  0  0  1  0  0  0  0\n",
      "22976  0  1  0  0  0  0  0\n",
      "22977  0  0  1  0  0  0  0\n",
      "22978  0  0  1  0  0  0  0\n",
      "22979  0  0  1  0  0  0  0\n",
      "22980  0  0  1  0  0  0  0\n",
      "22981  0  0  1  0  0  0  0\n",
      "22982  0  1  0  0  0  0  0\n",
      "22983  0  0  1  0  0  0  0\n",
      "22984  0  1  0  0  0  0  0\n",
      "22985  0  0  1  0  0  0  0\n",
      "22986  0  1  0  0  0  0  0\n",
      "22987  0  1  0  0  0  0  0\n",
      "22988  0  1  0  0  0  0  0\n",
      "22989  0  0  0  1  0  0  0\n",
      "22990  0  0  1  0  0  0  0\n",
      "22991  0  0  1  0  0  0  0\n",
      "22992  0  0  1  0  0  0  0\n",
      "22993  0  1  0  0  0  0  0\n",
      "22994  0  0  1  0  0  0  0\n",
      "22995  0  1  0  0  0  0  0\n",
      "22996  0  1  0  0  0  0  0\n",
      "22997  0  0  1  0  0  0  0\n",
      "22998  0  0  0  0  1  0  0\n",
      "\n",
      "[22999 rows x 7 columns]\n"
     ]
    }
   ],
   "source": [
    "print(pd.get_dummies(data['EDUCATION']))"
   ]
  },
  {
   "cell_type": "code",
   "execution_count": 5,
   "metadata": {},
   "outputs": [
    {
     "data": {
      "text/plain": [
       "0        24\n",
       "1        26\n",
       "2        34\n",
       "3        37\n",
       "4        57\n",
       "5        37\n",
       "6        29\n",
       "7        23\n",
       "8        28\n",
       "9        35\n",
       "10       34\n",
       "11       51\n",
       "12       41\n",
       "13       30\n",
       "14       29\n",
       "15       23\n",
       "16       24\n",
       "17       49\n",
       "18       49\n",
       "19       29\n",
       "20       39\n",
       "21       39\n",
       "22       26\n",
       "23       40\n",
       "24       23\n",
       "25       23\n",
       "26       27\n",
       "27       30\n",
       "28       47\n",
       "29       26\n",
       "         ..\n",
       "22969    38\n",
       "22970    23\n",
       "22971    27\n",
       "22972    36\n",
       "22973    36\n",
       "22974    32\n",
       "22975    31\n",
       "22976    43\n",
       "22977    39\n",
       "22978    41\n",
       "22979    40\n",
       "22980    43\n",
       "22981    34\n",
       "22982    43\n",
       "22983    40\n",
       "22984    33\n",
       "22985    40\n",
       "22986    37\n",
       "22987    38\n",
       "22988    42\n",
       "22989    44\n",
       "22990    41\n",
       "22991    37\n",
       "22992    46\n",
       "22993    41\n",
       "22994    44\n",
       "22995    35\n",
       "22996    39\n",
       "22997    41\n",
       "22998    49\n",
       "Name: AGE, Length: 22999, dtype: int64"
      ]
     },
     "execution_count": 5,
     "metadata": {},
     "output_type": "execute_result"
    }
   ],
   "source": [
    "data['AGE']"
   ]
  },
  {
   "cell_type": "code",
   "execution_count": null,
   "metadata": {},
   "outputs": [],
   "source": [
    "if uniquee.size!=11:\n",
    "        np.insert(count,3,[[1]])\n",
    "        np.insert(uniquee*i,3,[[1]])"
   ]
  }
 ],
 "metadata": {
  "kernelspec": {
   "display_name": "Python 3",
   "language": "python",
   "name": "python3"
  },
  "language_info": {
   "codemirror_mode": {
    "name": "ipython",
    "version": 3
   },
   "file_extension": ".py",
   "mimetype": "text/x-python",
   "name": "python",
   "nbconvert_exporter": "python",
   "pygments_lexer": "ipython3",
   "version": "3.7.1"
  }
 },
 "nbformat": 4,
 "nbformat_minor": 2
}

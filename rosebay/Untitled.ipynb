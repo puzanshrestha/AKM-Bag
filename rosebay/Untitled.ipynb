{
 "cells": [
  {
   "cell_type": "code",
   "execution_count": 5,
   "metadata": {},
   "outputs": [
    {
     "name": "stdout",
     "output_type": "stream",
     "text": [
      "0        24\n",
      "1        26\n",
      "2        34\n",
      "3        37\n",
      "4        57\n",
      "5        37\n",
      "6        29\n",
      "7        23\n",
      "8        28\n",
      "9        35\n",
      "10       34\n",
      "11       51\n",
      "12       41\n",
      "13       30\n",
      "14       29\n",
      "15       23\n",
      "16       24\n",
      "17       49\n",
      "18       49\n",
      "19       29\n",
      "20       39\n",
      "21       39\n",
      "22       26\n",
      "23       40\n",
      "24       23\n",
      "25       23\n",
      "26       27\n",
      "27       30\n",
      "28       47\n",
      "29       26\n",
      "         ..\n",
      "22969    38\n",
      "22970    23\n",
      "22971    27\n",
      "22972    36\n",
      "22973    36\n",
      "22974    32\n",
      "22975    31\n",
      "22976    43\n",
      "22977    39\n",
      "22978    41\n",
      "22979    40\n",
      "22980    43\n",
      "22981    34\n",
      "22982    43\n",
      "22983    40\n",
      "22984    33\n",
      "22985    40\n",
      "22986    37\n",
      "22987    38\n",
      "22988    42\n",
      "22989    44\n",
      "22990    41\n",
      "22991    37\n",
      "22992    46\n",
      "22993    41\n",
      "22994    44\n",
      "22995    35\n",
      "22996    39\n",
      "22997    41\n",
      "22998    49\n",
      "Name: AGE, Length: 22999, dtype: int64\n"
     ]
    }
   ],
   "source": [
    "import pandas as pd\n",
    "import numpy as np\n",
    "data=pd.read_csv('Loan-data.csv')\n",
    "\n",
    "data.head()\n",
    "\n",
    "print(data['AGE'])"
   ]
  },
  {
   "cell_type": "code",
   "execution_count": 20,
   "metadata": {},
   "outputs": [
    {
     "name": "stdout",
     "output_type": "stream",
     "text": [
      "   AGE  SEX  EDUCATION  MARRIAGE  LIMIT_BAL  BILL_AMT1  BILL_AMT2  BILL_AMT3  \\\n",
      "0   24    2          2         1      20000       3913       3102        689   \n",
      "1   26    2          2         2     120000       2682       1725       2682   \n",
      "2   34    2          2         2      90000      29239      14027      13559   \n",
      "3   37    2          2         1      50000      46990      48233      49291   \n",
      "\n",
      "   BILL_AMT4  BILL_AMT5  BILL_AMT6  \n",
      "0          0          0          0  \n",
      "1       3272       3455       3261  \n",
      "2      14331      14948      15549  \n",
      "3      28314      28959      29547  \n",
      "   default payment next month\n",
      "0                           1\n",
      "1                           1\n",
      "2                           0\n",
      "3                           0\n",
      "4                           0\n"
     ]
    }
   ],
   "source": [
    "columns_target=['default payment next month']\n",
    "columns_train=['AGE','SEX','EDUCATION','MARRIAGE','LIMIT_BAL','BILL_AMT1','BILL_AMT2','BILL_AMT3','BILL_AMT4','BILL_AMT5','BILL_AMT6']\n",
    "x=data[columns_train]\n",
    "y=data[columns_target]\n",
    "x['AGE'].isnull().sum()\n",
    "x['SEX'].isnull().sum()\n",
    "x['EDUCATION'].isnull().sum()\n",
    "x['MARRIAGE'].isnull().sum()\n",
    "print(x.head(4))\n",
    "print(y.head())\n",
    "\n",
    "\n",
    "\n"
   ]
  },
  {
   "cell_type": "code",
   "execution_count": 24,
   "metadata": {},
   "outputs": [
    {
     "name": "stdout",
     "output_type": "stream",
     "text": [
      "[0 0 0 0 0 0 0 0 0 0 0 0 0 0 0 0]\n"
     ]
    },
    {
     "name": "stderr",
     "output_type": "stream",
     "text": [
      "C:\\Users\\hp\\Anaconda3\\lib\\site-packages\\sklearn\\utils\\validation.py:761: DataConversionWarning: A column-vector y was passed when a 1d array was expected. Please change the shape of y to (n_samples, ), for example using ravel().\n",
      "  y = column_or_1d(y, warn=True)\n"
     ]
    },
    {
     "data": {
      "text/plain": [
       "0.7791831357048749"
      ]
     },
     "execution_count": 24,
     "metadata": {},
     "output_type": "execute_result"
    }
   ],
   "source": [
    "from sklearn.model_selection import train_test_split\n",
    "x_train,x_test,y_train,y_test=train_test_split(x,y,test_size=0.33,random_state=42)\n",
    "from sklearn.naive_bayes import BernoulliNB\n",
    "bnb = BernoulliNB(binarize=0.0)\n",
    "bnb.fit(x_train,y_train)\n",
    "print(bnb.predict(x_test[116:132]))\n",
    "bnb.score(x_test,y_test)"
   ]
  },
  {
   "cell_type": "code",
   "execution_count": 3,
   "metadata": {},
   "outputs": [
    {
     "data": {
      "image/png": "[encoded data removed]",
      "text/plain": [
       "<Figure size 432x288 with 1 Axes>"
      ]
     },
     "metadata": {
      "needs_background": "light"
     },
     "output_type": "display_data"
    }
   ],
   "source": [
    "from matplotlib import pyplot as plt\n",
    "years=[1432,4532,3452,3522]\n",
    "gdp=[300,400,200,500]\n",
    "plt.plot(years,gdp,color='green',marker='o')\n",
    "plt.show()"
   ]
  },
  {
   "cell_type": "code",
   "execution_count": null,
   "metadata": {},
   "outputs": [],
   "source": []
  }
 ],
 "metadata": {
  "kernelspec": {
   "display_name": "Python 3",
   "language": "python",
   "name": "python3"
  },
  "language_info": {
   "codemirror_mode": {
    "name": "ipython",
    "version": 3
   },
   "file_extension": ".py",
   "mimetype": "text/x-python",
   "name": "python",
   "nbconvert_exporter": "python",
   "pygments_lexer": "ipython3",
   "version": "3.7.1"
  }
 },
 "nbformat": 4,
 "nbformat_minor": 2
}
